{
 "cells": [
  {
   "cell_type": "code",
   "execution_count": 13,
   "metadata": {},
   "outputs": [],
   "source": [
    "import pandas as pd\n",
    "from sklearn.model_selection import train_test_split\n",
    "from sklearn.preprocessing import LabelEncoder, StandardScaler\n",
    "from sklearn.svm import SVC\n",
    "from sklearn.metrics import accuracy_score, f1_score, confusion_matrix\n",
    "\n",
    "data = pd.read_csv('dataset.csv', delimiter=';')\n",
    "\n",
    "X = data.drop(columns=['Target'])\n",
    "y = data['Target']\n",
    "\n",
    "scaler = StandardScaler()\n",
    "X_scaled = scaler.fit_transform(X)\n",
    "\n",
    "X_train, X_test, y_train, y_test = train_test_split(X_scaled, y, test_size=0.3, random_state=42)"
   ]
  },
  {
   "cell_type": "code",
   "execution_count": 14,
   "metadata": {},
   "outputs": [
    {
     "data": {
      "text/plain": [
       "{'Train Accuracy': 0.7803617571059431,\n",
       " 'Test Accuracy': 0.7643072289156626,\n",
       " 'Train F1 Macro': 0.7039734158519528,\n",
       " 'Test F1 Macro': 0.6814289561080694,\n",
       " 'Train Confusion Matrix': array([[ 731,   99,  150],\n",
       "        [ 103,  212,  234],\n",
       "        [  27,   67, 1473]], dtype=int64),\n",
       " 'Test Confusion Matrix': array([[342,  36,  63],\n",
       "        [ 61,  79, 105],\n",
       "        [ 13,  35, 594]], dtype=int64)}"
      ]
     },
     "execution_count": 14,
     "metadata": {},
     "output_type": "execute_result"
    }
   ],
   "source": [
    "svc = SVC(kernel='linear', random_state=42)\n",
    "svc.fit(X_train, y_train)\n",
    "\n",
    "train_predictions = svc.predict(X_train)\n",
    "test_predictions = svc.predict(X_test)\n",
    "\n",
    "train_accuracy = accuracy_score(y_train, train_predictions)\n",
    "test_accuracy = accuracy_score(y_test, test_predictions)\n",
    "\n",
    "train_f1_macro = f1_score(y_train, train_predictions, average='macro')\n",
    "test_f1_macro = f1_score(y_test, test_predictions, average='macro')\n",
    "\n",
    "train_conf_matrix = confusion_matrix(y_train, train_predictions)\n",
    "test_conf_matrix = confusion_matrix(y_test, test_predictions)\n",
    "\n",
    "results = {\n",
    "    \"Train Accuracy\": train_accuracy,\n",
    "    \"Test Accuracy\": test_accuracy,\n",
    "    \"Train F1 Macro\": train_f1_macro,\n",
    "    \"Test F1 Macro\": test_f1_macro,\n",
    "    \"Train Confusion Matrix\": train_conf_matrix,\n",
    "    \"Test Confusion Matrix\": test_conf_matrix\n",
    "}\n",
    "\n",
    "results"
   ]
  },
  {
   "cell_type": "code",
   "execution_count": 15,
   "metadata": {},
   "outputs": [
    {
     "data": {
      "text/plain": [
       "{'Train Accuracy': 0.7803617571059431,\n",
       " 'Test Accuracy': 0.7643072289156626,\n",
       " 'Train F1 Macro': 0.7039734158519528,\n",
       " 'Test F1 Macro': 0.6814289561080694,\n",
       " 'Train Confusion Matrix': array([[ 731,   99,  150],\n",
       "        [ 103,  212,  234],\n",
       "        [  27,   67, 1473]], dtype=int64),\n",
       " 'Test Confusion Matrix': array([[342,  36,  63],\n",
       "        [ 61,  79, 105],\n",
       "        [ 13,  35, 594]], dtype=int64)}"
      ]
     },
     "execution_count": 15,
     "metadata": {},
     "output_type": "execute_result"
    }
   ],
   "source": [
    "results"
   ]
  },
  {
   "attachments": {},
   "cell_type": "markdown",
   "metadata": {},
   "source": [
    "## Grid Search for Hyperparameter Tuning"
   ]
  },
  {
   "cell_type": "code",
   "execution_count": 4,
   "metadata": {},
   "outputs": [
    {
     "name": "stdout",
     "output_type": "stream",
     "text": [
      "Fitting 3 folds for each of 12 candidates, totalling 36 fits\n",
      "[CV] END ....................C=0.1, gamma=0.1, kernel=linear; total time=   0.4s\n",
      "[CV] END ....................C=0.1, gamma=0.1, kernel=linear; total time=   0.5s\n",
      "[CV] END ....................C=0.1, gamma=0.1, kernel=linear; total time=   0.4s\n",
      "[CV] END .......................C=0.1, gamma=0.1, kernel=rbf; total time=   1.5s\n",
      "[CV] END .......................C=0.1, gamma=0.1, kernel=rbf; total time=   1.4s\n",
      "[CV] END .......................C=0.1, gamma=0.1, kernel=rbf; total time=   1.6s\n",
      "[CV] END ...................C=0.1, gamma=0.01, kernel=linear; total time=   0.5s\n",
      "[CV] END ...................C=0.1, gamma=0.01, kernel=linear; total time=   0.6s\n",
      "[CV] END ...................C=0.1, gamma=0.01, kernel=linear; total time=   0.5s\n",
      "[CV] END ......................C=0.1, gamma=0.01, kernel=rbf; total time=   1.7s\n",
      "[CV] END ......................C=0.1, gamma=0.01, kernel=rbf; total time=   2.3s\n",
      "[CV] END ......................C=0.1, gamma=0.01, kernel=rbf; total time=   1.9s\n",
      "[CV] END ......................C=1, gamma=0.1, kernel=linear; total time=   1.6s\n",
      "[CV] END ......................C=1, gamma=0.1, kernel=linear; total time=   1.2s\n",
      "[CV] END ......................C=1, gamma=0.1, kernel=linear; total time=   1.2s\n",
      "[CV] END .........................C=1, gamma=0.1, kernel=rbf; total time=   1.5s\n",
      "[CV] END .........................C=1, gamma=0.1, kernel=rbf; total time=   1.7s\n",
      "[CV] END .........................C=1, gamma=0.1, kernel=rbf; total time=   1.4s\n",
      "[CV] END .....................C=1, gamma=0.01, kernel=linear; total time=   0.8s\n",
      "[CV] END .....................C=1, gamma=0.01, kernel=linear; total time=   0.6s\n",
      "[CV] END .....................C=1, gamma=0.01, kernel=linear; total time=   0.8s\n",
      "[CV] END ........................C=1, gamma=0.01, kernel=rbf; total time=   0.7s\n",
      "[CV] END ........................C=1, gamma=0.01, kernel=rbf; total time=   0.7s\n",
      "[CV] END ........................C=1, gamma=0.01, kernel=rbf; total time=   0.6s\n",
      "[CV] END .....................C=10, gamma=0.1, kernel=linear; total time=   5.5s\n",
      "[CV] END .....................C=10, gamma=0.1, kernel=linear; total time=   3.8s\n",
      "[CV] END .....................C=10, gamma=0.1, kernel=linear; total time=   6.3s\n",
      "[CV] END ........................C=10, gamma=0.1, kernel=rbf; total time=   1.7s\n",
      "[CV] END ........................C=10, gamma=0.1, kernel=rbf; total time=   2.1s\n",
      "[CV] END ........................C=10, gamma=0.1, kernel=rbf; total time=   1.6s\n",
      "[CV] END ....................C=10, gamma=0.01, kernel=linear; total time=   4.5s\n",
      "[CV] END ....................C=10, gamma=0.01, kernel=linear; total time=   3.9s\n",
      "[CV] END ....................C=10, gamma=0.01, kernel=linear; total time=   4.9s\n",
      "[CV] END .......................C=10, gamma=0.01, kernel=rbf; total time=   0.7s\n",
      "[CV] END .......................C=10, gamma=0.01, kernel=rbf; total time=   0.6s\n",
      "[CV] END .......................C=10, gamma=0.01, kernel=rbf; total time=   0.8s\n"
     ]
    },
    {
     "data": {
      "text/plain": [
       "{'Best Parameters': {'C': 0.1, 'gamma': 0.1, 'kernel': 'linear'},\n",
       " 'Train Accuracy with Best Estimator': 0.7816537467700259,\n",
       " 'Test Accuracy with Best Estimator': 0.7605421686746988,\n",
       " 'Train F1 Macro with Best Estimator': 0.704224683395518,\n",
       " 'Test F1 Macro with Best Estimator': 0.6775267971262046,\n",
       " 'Train Confusion Matrix with Best Estimator': array([[ 730,   98,  152],\n",
       "        [  92,  208,  249],\n",
       "        [  21,   64, 1482]], dtype=int64),\n",
       " 'Test Confusion Matrix with Best Estimator': array([[336,  41,  64],\n",
       "        [ 51,  78, 116],\n",
       "        [ 12,  34, 596]], dtype=int64)}"
      ]
     },
     "execution_count": 4,
     "metadata": {},
     "output_type": "execute_result"
    }
   ],
   "source": [
    "from sklearn.model_selection import GridSearchCV\n",
    "\n",
    "param_grid_reduced = {\n",
    "    'C': [0.1, 1, 10],\n",
    "    'gamma': [0.1, 0.01],\n",
    "    'kernel': ['linear', 'rbf']\n",
    "}\n",
    "\n",
    "# Initializing GridSearchCV with reduced parameter grid\n",
    "grid_reduced = GridSearchCV(SVC(), param_grid_reduced, refit=True, verbose=2, cv=3)\n",
    "\n",
    "# Fitting the grid search to the data\n",
    "grid_reduced.fit(X_train, y_train)\n",
    "\n",
    "# Best parameters and estimator\n",
    "best_params_reduced = grid_reduced.best_params_\n",
    "best_estimator_reduced = grid_reduced.best_estimator_\n",
    "\n",
    "# Predictions with the best estimator\n",
    "train_predictions_best_reduced = best_estimator_reduced.predict(X_train)\n",
    "test_predictions_best_reduced = best_estimator_reduced.predict(X_test)\n",
    "\n",
    "# Model evaluation with the best estimator\n",
    "train_accuracy_best_reduced = accuracy_score(y_train, train_predictions_best_reduced)\n",
    "test_accuracy_best_reduced = accuracy_score(y_test, test_predictions_best_reduced)\n",
    "\n",
    "# F1-score calculation for the best estimator\n",
    "train_f1_macro_best_reduced = f1_score(y_train, train_predictions_best_reduced, average='macro')\n",
    "test_f1_macro_best_reduced = f1_score(y_test, test_predictions_best_reduced, average='macro')\n",
    "\n",
    "# Confusion matrices with the best estimator\n",
    "train_conf_matrix_best_reduced = confusion_matrix(y_train, train_predictions_best_reduced)\n",
    "test_conf_matrix_best_reduced = confusion_matrix(y_test, test_predictions_best_reduced)\n",
    "\n",
    "# Collecting the results\n",
    "grid_search_results_reduced = {\n",
    "    \"Best Parameters\": best_params_reduced,\n",
    "    \"Train Accuracy with Best Estimator\": train_accuracy_best_reduced,\n",
    "    \"Test Accuracy with Best Estimator\": test_accuracy_best_reduced,\n",
    "    \"Train F1 Macro with Best Estimator\": train_f1_macro_best_reduced,\n",
    "    \"Test F1 Macro with Best Estimator\": test_f1_macro_best_reduced,\n",
    "    \"Train Confusion Matrix with Best Estimator\": train_conf_matrix_best_reduced,\n",
    "    \"Test Confusion Matrix with Best Estimator\": test_conf_matrix_best_reduced\n",
    "}\n",
    "\n",
    "grid_search_results_reduced\n"
   ]
  }
 ],
 "metadata": {
  "kernelspec": {
   "display_name": "Python 3",
   "language": "python",
   "name": "python3"
  },
  "language_info": {
   "codemirror_mode": {
    "name": "ipython",
    "version": 3
   },
   "file_extension": ".py",
   "mimetype": "text/x-python",
   "name": "python",
   "nbconvert_exporter": "python",
   "pygments_lexer": "ipython3",
   "version": "3.11.2"
  },
  "orig_nbformat": 4,
  "vscode": {
   "interpreter": {
    "hash": "66d02d1e56afec2f3ce28ba0a4e10347af66f1dfad51517952c72c86b4821b8c"
   }
  }
 },
 "nbformat": 4,
 "nbformat_minor": 2
}
